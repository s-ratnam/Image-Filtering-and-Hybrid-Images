{
 "cells": [
  {
   "cell_type": "markdown",
   "metadata": {},
   "source": [
    "# Test Filtering\n",
    "\n",
    "This script has test cases to help you test `my_imfilter()`, which you will write. You should verify that you get reasonable output here before using your filtering to construct a hybrid image in `proj1.ipynb`. The outputs are all saved and you can include them in your writeup. \n",
    "\n",
    "## Setup"
   ]
  },
  {
   "cell_type": "code",
   "execution_count": null,
   "metadata": {},
   "outputs": [],
   "source": [
    "import numpy as np\n",
    "import matplotlib.pyplot as plt\n",
    "%matplotlib inline\n",
    "from proj1_code.utils import load_image, save_image, PIL_resize\n",
    "from proj1_code.part2 import my_imfilter\n",
    "import torch\n",
    "\n",
    "test_image = load_image('data/1b_cat.bmp')\n",
    "original_height = test_image.shape[0]\n",
    "original_width = test_image.shape[1]\n",
    "test_image = PIL_resize(test_image, (int(0.7*original_width), int(0.7*original_height)))\n",
    "test_image = torch.from_numpy(test_image)"
   ]
  },
  {
   "cell_type": "markdown",
   "metadata": {},
   "source": [
    "## Identity filter\n",
    "This filter should do nothing regardless of the padding method you use."
   ]
  },
  {
   "cell_type": "code",
   "execution_count": null,
   "metadata": {},
   "outputs": [],
   "source": [
    "identity_filter = torch.tensor([[0, 0, 0], [0, 1, 0], [0, 0, 0]])\n",
    "identity_image = my_imfilter(test_image, identity_filter)\n",
    "plt.imshow(identity_image)\n",
    "done = save_image('../results/part2/identity_image.jpg', identity_image)"
   ]
  },
  {
   "cell_type": "markdown",
   "metadata": {},
   "source": [
    "## Small blur with a box filter\n",
    "This filter should remove some high frequencies."
   ]
  },
  {
   "cell_type": "code",
   "execution_count": null,
   "metadata": {},
   "outputs": [],
   "source": [
    "blur_filter = torch.ones((3, 3))\n",
    "blur_filter /= torch.sum(blur_filter)  # making the filter sum to 1\n",
    "blur_image = my_imfilter(test_image, blur_filter)\n",
    "plt.imshow(blur_image)\n",
    "done = save_image('../results/part2/blur_image.jpg', blur_image)"
   ]
  },
  {
   "cell_type": "markdown",
   "metadata": {},
   "source": [
    "## Oriented filter (Sobel operator)"
   ]
  },
  {
   "cell_type": "code",
   "execution_count": null,
   "metadata": {},
   "outputs": [],
   "source": [
    "sobel_filter = torch.tensor([[-1, 0, 1], [-2, 0, 2], [-1, 0, 1]])  # should respond to horizontal gradients\n",
    "sobel_image = my_imfilter(test_image, sobel_filter)\n",
    "\n",
    "# 0.5 added because the output image is centered around zero otherwise and mostly black\n",
    "sobel_image = torch.clamp(sobel_image+0.5, 0.0, 1.0)\n",
    "plt.imshow(sobel_image)\n",
    "done = save_image('../results/part2/sobel_image.jpg', sobel_image)"
   ]
  },
  {
   "cell_type": "markdown",
   "metadata": {},
   "source": [
    "## High pass filter (discrete Laplacian)"
   ]
  },
  {
   "cell_type": "code",
   "execution_count": null,
   "metadata": {},
   "outputs": [],
   "source": [
    "laplacian_filter = torch.tensor([[0, 1, 0], [1, -4, 1], [0, 1, 0]])\n",
    "laplacian_image = my_imfilter(test_image, laplacian_filter)\n",
    "\n",
    "# added because the output image is centered around zero otherwise and mostly black\n",
    "laplacian_image = torch.clamp(laplacian_image+0.5, 0.0, 1.0)\n",
    "plt.figure(); plt.imshow(laplacian_image)\n",
    "done = save_image('../results/part2/laplacian_image.jpg', laplacian_image)\n",
    "\n",
    "# High pass \"filter\" alternative\n",
    "high_pass_image = test_image - blur_image\n",
    "high_pass_image = torch.clamp(high_pass_image+0.5, 0.0, 1.0)\n",
    "plt.figure(); plt.imshow(high_pass_image)\n",
    "done = save_image('../results/part2/high_pass_image.jpg', high_pass_image)"
   ]
  }
 ],
 "metadata": {
  "kernelspec": {
   "display_name": "Python 3",
   "language": "python",
   "name": "python3"
  },
  "language_info": {
   "codemirror_mode": {
    "name": "ipython",
    "version": 3
   },
   "file_extension": ".py",
   "mimetype": "text/x-python",
   "name": "python",
   "nbconvert_exporter": "python",
   "pygments_lexer": "ipython3",
   "version": "3.6.10"
  },
  "widgets": {
   "state": {},
   "version": "1.1.2"
  }
 },
 "nbformat": 4,
 "nbformat_minor": 2
}
